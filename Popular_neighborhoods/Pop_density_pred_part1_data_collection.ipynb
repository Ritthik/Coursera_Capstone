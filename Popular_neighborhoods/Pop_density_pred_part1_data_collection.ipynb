{
 "cells": [
  {
   "cell_type": "markdown",
   "metadata": {},
   "source": [
    "## Part1: Downloading the neighbourhood data"
   ]
  },
  {
   "cell_type": "code",
   "execution_count": 8,
   "metadata": {},
   "outputs": [],
   "source": [
    "from bs4 import BeautifulSoup\n",
    "import requests\n",
    "source_file=requests.get(\"https://en.wikipedia.org/wiki/List_of_postal_codes_of_Canada:_M\").text\n",
    "soup = BeautifulSoup(source_file, 'html.parser')"
   ]
  },
  {
   "cell_type": "code",
   "execution_count": null,
   "metadata": {},
   "outputs": [],
   "source": [
    "from IPython.display import display_html #Display the table\n",
    "tab = str(soup.table)\n",
    "display_html(tab,raw=True)"
   ]
  },
  {
   "cell_type": "code",
   "execution_count": 10,
   "metadata": {},
   "outputs": [],
   "source": [
    "import pandas as pd\n",
    "pd.set_option(\"display.max_rows\", None, \"display.max_columns\", None)\n",
    "df=pd.read_html(tab)[0]"
   ]
  },
  {
   "cell_type": "code",
   "execution_count": null,
   "metadata": {},
   "outputs": [],
   "source": [
    "df=df[df.Borough!=\"Not assigned\"]"
   ]
  },
  {
   "cell_type": "code",
   "execution_count": null,
   "metadata": {},
   "outputs": [],
   "source": [
    "df_grouped=df.groupby(\"Postal Code\",sort=False).agg(\",\".join)\n",
    "df_grouped.reset_index(inplace=True)\n",
    "df_grouped"
   ]
  },
  {
   "cell_type": "code",
   "execution_count": null,
   "metadata": {},
   "outputs": [],
   "source": [
    "df_grouped[df_grouped[\"Neighbourhood\"]==\"Not assigned\"].Neighbourhood=df_grouped[df_grouped[\"Neighbourhood\"]==\"Not assigned\"].Borough"
   ]
  },
  {
   "cell_type": "code",
   "execution_count": null,
   "metadata": {},
   "outputs": [],
   "source": [
    "print(df_grouped.shape,df_grouped.values)"
   ]
  },
  {
   "cell_type": "markdown",
   "metadata": {},
   "source": [
    "## Part2 :Latitude and Longitude per postal code"
   ]
  },
  {
   "cell_type": "code",
   "execution_count": null,
   "metadata": {},
   "outputs": [],
   "source": [
    "df_latlon=pd.read_csv(\"http://cocl.us/Geospatial_data\") #Latitude and Longitude per postal code\n",
    "df_latlon.head()"
   ]
  },
  {
   "cell_type": "code",
   "execution_count": null,
   "metadata": {},
   "outputs": [],
   "source": [
    "df_merge=pd.merge(df_grouped,df_latlon,on=\"Postal Code\",how=\"inner\") #merging lat, lon info for the neighborhoods"
   ]
  },
  {
   "cell_type": "code",
   "execution_count": null,
   "metadata": {},
   "outputs": [],
   "source": [
    "df_merge.to_pickle(\"./df_merge\")"
   ]
  },
  {
   "cell_type": "markdown",
   "metadata": {},
   "source": [
    "## Part 3: Finding population and demographic data regarding Neighbourhoods"
   ]
  },
  {
   "cell_type": "code",
   "execution_count": null,
   "metadata": {},
   "outputs": [],
   "source": [
    "tables=BeautifulSoup(requests.get(\"https://en.wikipedia.org/wiki/Demographics_of_Toronto_neighbourhoods\").text,'html.parser').findAll(\"table\")"
   ]
  },
  {
   "cell_type": "code",
   "execution_count": null,
   "metadata": {},
   "outputs": [],
   "source": [
    "#Displaying the tables\n",
    "from IPython.display import display_html\n",
    "import pandas as pd\n",
    "df_table=[]\n",
    "for table in tables:\n",
    "     if table.findParent(\"table\") is None:\n",
    "        tab = str(table)\n",
    "        display_html(tab,raw=True)\n",
    "        df_table.append(pd.read_html(tab))"
   ]
  },
  {
   "cell_type": "code",
   "execution_count": null,
   "metadata": {},
   "outputs": [],
   "source": [
    "# Selecting the 1st, 2nd and 5th table which containes the actual values we need\n",
    "df_table=pd.concat([df_table[1][0],df_table[2][0],df_table[5][0]])"
   ]
  },
  {
   "cell_type": "code",
   "execution_count": null,
   "metadata": {},
   "outputs": [],
   "source": [
    "df_table=df_table.reset_index()"
   ]
  },
  {
   "cell_type": "code",
   "execution_count": null,
   "metadata": {},
   "outputs": [],
   "source": [
    "df_table"
   ]
  },
  {
   "cell_type": "code",
   "execution_count": null,
   "metadata": {},
   "outputs": [],
   "source": [
    "df_table=df_table.drop(\"index\",axis=1)"
   ]
  },
  {
   "cell_type": "code",
   "execution_count": null,
   "metadata": {},
   "outputs": [],
   "source": [
    "df_table.Name=df_table.Name.astype(str) #since the Name series has *float* values nana"
   ]
  },
  {
   "cell_type": "code",
   "execution_count": null,
   "metadata": {},
   "outputs": [],
   "source": [
    "df_table=df_table[df_table.Name!=\"nan\"]"
   ]
  },
  {
   "cell_type": "code",
   "execution_count": null,
   "metadata": {},
   "outputs": [],
   "source": [
    "df_table=df_table.drop([\"Map\",\"Second most common language (after English) by name\",\"Second most common language (after English) by percentage\"],axis=1)"
   ]
  },
  {
   "cell_type": "code",
   "execution_count": null,
   "metadata": {},
   "outputs": [],
   "source": [
    "df_table"
   ]
  },
  {
   "cell_type": "code",
   "execution_count": null,
   "metadata": {},
   "outputs": [],
   "source": [
    "df_table[\"Change in Population\"]=(df_table[\"% Change in Population since 2001\"]/100)*df_table[\"Population\"]/(1+df_table[\"% Change in Population since 2001\"]/100)"
   ]
  },
  {
   "cell_type": "code",
   "execution_count": null,
   "metadata": {},
   "outputs": [],
   "source": [
    "df_table"
   ]
  },
  {
   "cell_type": "code",
   "execution_count": null,
   "metadata": {},
   "outputs": [],
   "source": [
    "df_table.dropna()"
   ]
  },
  {
   "cell_type": "code",
   "execution_count": null,
   "metadata": {},
   "outputs": [],
   "source": [
    "df_table[\"Change in Population\"]=df_table[\"Change in Population\"].astype(int)"
   ]
  },
  {
   "cell_type": "code",
   "execution_count": null,
   "metadata": {},
   "outputs": [],
   "source": [
    "df_table[\"Total income\"]=df_table[\"Average Income\"]*df_table[\"Population\"]"
   ]
  },
  {
   "cell_type": "code",
   "execution_count": null,
   "metadata": {},
   "outputs": [],
   "source": [
    "df_table[\"Commuting\"]=(df_table[\"Transit Commuting\\xa0%\"]*df_table[\"Population\"]).astype(int)\n",
    "df_table[\"Renting\"]=(df_table[\"% Renters\"]*df_table[\"Population\"]).astype(int)"
   ]
  },
  {
   "cell_type": "code",
   "execution_count": null,
   "metadata": {},
   "outputs": [],
   "source": [
    "df_table"
   ]
  },
  {
   "cell_type": "code",
   "execution_count": null,
   "metadata": {},
   "outputs": [],
   "source": [
    "df_table.to_pickle(\"./df_table\")"
   ]
  },
  {
   "cell_type": "code",
   "execution_count": null,
   "metadata": {},
   "outputs": [],
   "source": [
    "df_merge #the original merged sheet"
   ]
  },
  {
   "cell_type": "code",
   "execution_count": null,
   "metadata": {},
   "outputs": [],
   "source": [
    "df_merge.Neighbourhood=df_merge.Neighbourhood.apply(lambda x:x.split(\", \"))"
   ]
  },
  {
   "cell_type": "code",
   "execution_count": null,
   "metadata": {},
   "outputs": [],
   "source": [
    "df_merge"
   ]
  },
  {
   "cell_type": "code",
   "execution_count": null,
   "metadata": {},
   "outputs": [],
   "source": [
    "#Adding information of population, area, population change, total income,people commuting and people renting PER POSTAL CODE \n",
    "import numpy as np\n",
    "pop=np.zeros(df_merge.shape[0])\n",
    "area=np.zeros(df_merge.shape[0])\n",
    "pop_chg=np.zeros(df_merge.shape[0])\n",
    "tot_inc=np.zeros(df_merge.shape[0])\n",
    "commut=np.zeros(df_merge.shape[0])\n",
    "rent=np.zeros(df_merge.shape[0])\n",
    "for item,row in df_merge.iterrows():\n",
    "    for elem in row.Neighbourhood:\n",
    "        #print(elem,df_table[df_table[\"Name\"].str.contains(elem,regex=False,case=False)].Population)\n",
    "        try:\n",
    "            pop[item]+=df_table[df_table[\"Name\"].str.contains(elem,regex=True,case=False)].Population\n",
    "            area[item]+=df_table[df_table[\"Name\"].str.contains(elem,regex=True,case=False)][\"Land area (km2)\"]\n",
    "            pop_chg[item]+=df_table[df_table[\"Name\"].str.contains(elem,regex=True,case=False)][\"Change in Population\"]\n",
    "            tot_inc[item]+=df_table[df_table[\"Name\"].str.contains(elem,regex=True,case=False)][\"Total income\"]\n",
    "            commut[item]+=df_table[df_table[\"Name\"].str.contains(elem,regex=True,case=False)][\"Commuting\"]\n",
    "            rent[item]+=df_table[df_table[\"Name\"].str.contains(elem,regex=True,case=False)][\"Renting\"]\n",
    "        except:\n",
    "            continue"
   ]
  },
  {
   "cell_type": "code",
   "execution_count": null,
   "metadata": {},
   "outputs": [],
   "source": [
    "df_merge[\"Population\"]=pop\n",
    "df_merge[\"Area\"]=area\n",
    "df_merge[\"Population Change\"]=pop_chg\n",
    "df_merge[\"Total income\"]=tot_inc\n",
    "df_merge[\"Commuting\"]=commut\n",
    "df_merge[\"Renting\"]=rent"
   ]
  },
  {
   "cell_type": "code",
   "execution_count": null,
   "metadata": {},
   "outputs": [],
   "source": [
    "df_merge"
   ]
  },
  {
   "cell_type": "code",
   "execution_count": null,
   "metadata": {},
   "outputs": [],
   "source": [
    "df_merge=df_merge[df_merge.Area!=0] #Some postal codes have missing data of demographic variables"
   ]
  },
  {
   "cell_type": "code",
   "execution_count": null,
   "metadata": {},
   "outputs": [],
   "source": [
    "df_merge"
   ]
  },
  {
   "cell_type": "code",
   "execution_count": null,
   "metadata": {},
   "outputs": [],
   "source": [
    "df_merge.shape"
   ]
  },
  {
   "cell_type": "code",
   "execution_count": null,
   "metadata": {},
   "outputs": [],
   "source": [
    "df_merge.to_pickle(\"./df_merge_withPop\")"
   ]
  },
  {
   "cell_type": "code",
   "execution_count": null,
   "metadata": {},
   "outputs": [],
   "source": [
    "import pandas as pd"
   ]
  },
  {
   "cell_type": "code",
   "execution_count": null,
   "metadata": {},
   "outputs": [],
   "source": [
    "df_merge=pd.read_pickle(\"./df_merge_withPop\")"
   ]
  },
  {
   "cell_type": "code",
   "execution_count": null,
   "metadata": {},
   "outputs": [],
   "source": [
    "df_merge"
   ]
  },
  {
   "cell_type": "markdown",
   "metadata": {},
   "source": [
    "## Part 4: Leveraging Foursquare information on broad categories of venues WITHIN a postal code\n",
    "\n",
    "## If someone does not have FS ID and Secret they may skip this section and still have the final dataframe with the FS category information included (df_merge_withPop_with_FScategories) in pickle format in this repository\n",
    "\n",
    "#### For each postal code, for the given radius we search for venues and divide these venues boradly into the keys of the following dictionary and count the number of them"
   ]
  },
  {
   "cell_type": "code",
   "execution_count": null,
   "metadata": {},
   "outputs": [],
   "source": [
    "CLIENT_ID = # this is the users ID AND SECRET, user can use their personal ID and SECRET\n",
    "CLIENT_SECRET = \n",
    "VERSION = '20200604'\n",
    "lat=43.654260\n",
    "lon=-79.360636\n",
    "# Category search within a postcode:\n",
    "url=f\"https://api.foursquare.com/v2/venues/search?client_id={CLIENT_ID}&client_secret={CLIENT_SECRET}&ll={lat},{lon}&v={VERSION}&limit={50}\""
   ]
  },
  {
   "cell_type": "code",
   "execution_count": null,
   "metadata": {},
   "outputs": [],
   "source": [
    "import requests\n",
    "r=requests.get(url).json"
   ]
  },
  {
   "cell_type": "code",
   "execution_count": null,
   "metadata": {},
   "outputs": [],
   "source": [
    "def flatten_json(nested_json):\n",
    "    \"\"\"\n",
    "        Flatten json object with nested keys into a single level.\n",
    "        Args:\n",
    "            nested_json: A nested json object.\n",
    "        Returns:\n",
    "            The flattened json object if successful, None otherwise.\n",
    "    \"\"\"\n",
    "    out = {}\n",
    "\n",
    "    def flatten(x, name=''):\n",
    "        if type(x) is dict:\n",
    "            for a in x:\n",
    "                flatten(x[a], name + a + '_')\n",
    "        elif type(x) is list:\n",
    "            i = 0\n",
    "            for a in x:\n",
    "                flatten(a, name + str(i) + '_')\n",
    "                i += 1\n",
    "        else:\n",
    "            out[name[:-1]] = x\n",
    "\n",
    "    flatten(nested_json)\n",
    "    return out"
   ]
  },
  {
   "cell_type": "code",
   "execution_count": null,
   "metadata": {},
   "outputs": [],
   "source": [
    "result=flatten_json(r())"
   ]
  },
  {
   "cell_type": "code",
   "execution_count": null,
   "metadata": {},
   "outputs": [],
   "source": [
    "result"
   ]
  },
  {
   "cell_type": "code",
   "execution_count": null,
   "metadata": {},
   "outputs": [],
   "source": [
    "li=[]\n",
    "for elem in result:\n",
    "    if \"categories_0_name\" in elem:\n",
    "        li.append(result[elem])\n",
    "        "
   ]
  },
  {
   "cell_type": "code",
   "execution_count": null,
   "metadata": {},
   "outputs": [],
   "source": [
    "li"
   ]
  },
  {
   "cell_type": "code",
   "execution_count": null,
   "metadata": {},
   "outputs": [],
   "source": [
    "len(li)"
   ]
  },
  {
   "cell_type": "code",
   "execution_count": null,
   "metadata": {},
   "outputs": [],
   "source": [
    "df_merge"
   ]
  },
  {
   "cell_type": "code",
   "execution_count": null,
   "metadata": {},
   "outputs": [],
   "source": [
    "df_merge=pd.read_pickle(\"./df_merge_withPop\")"
   ]
  },
  {
   "cell_type": "code",
   "execution_count": null,
   "metadata": {},
   "outputs": [],
   "source": [
    "df_merge"
   ]
  },
  {
   "cell_type": "code",
   "execution_count": null,
   "metadata": {},
   "outputs": [],
   "source": [
    "df_merge=df_merge.reset_index()"
   ]
  },
  {
   "cell_type": "code",
   "execution_count": null,
   "metadata": {},
   "outputs": [],
   "source": [
    "df_merge=df_merge.drop(\"index\",axis=1)"
   ]
  },
  {
   "cell_type": "code",
   "execution_count": null,
   "metadata": {},
   "outputs": [],
   "source": [
    "df_merge"
   ]
  },
  {
   "cell_type": "code",
   "execution_count": null,
   "metadata": {},
   "outputs": [],
   "source": [
    "#Dictionary of categories from Foursquare: keys: broad categories values :sub categories mentioned in the JSON repsonse\n",
    "dic={'Arts & Entertainment':['Aquarium','Arcade','Art Gallery','Bowling Alley','Casino','Circus','Comedy Club','Concert Hall','Country Dance Club','Disc Golf','General Entertainment','Go Kart Track','Historic Site','Laser Tag','Mini Golf','Movie Theater','Indie Movie Theater','Multiplex','Museum','Art Museum','Erotic Museum','History Museum','Planetarium','Science Museum','Music Venue','Jazz Club','Piano Bar','Rock Club','Performing Arts Venue','Dance Studio','Indie Theater','Opera House','Theater','Pool Hall','Public Art','Outdoor Sculpture','Street Art','Racetrack','Roller Rink','Salsa Club','Stadium','Baseball Stadium','Basketball Stadium','Cricket Ground','Football Stadium','Hockey Arena','Soccer Stadium','Tennis','Track Stadium','Theme Park','Theme Park Ride / Attraction','Water Park','Zoo'],\n",
    "\n",
    "'College & University':['College Academic Building','College Arts Building','College Communications Building','College Engineering Building','College History Building','College Math Building','College Science Building','College Technology Building','College Administrative Building','College Auditorium','College Bookstore','College Cafeteria','College Classroom','College Gym','College Lab','College Library','College Quad','College Rec Center','College Residence Hall','College Stadium','College Baseball Diamond','College Basketball Court','College Cricket Pitch','College Football Field','College Hockey Rink','College Soccer Field','College Tennis Court','College Track','College Theater','Community College','Fraternity House','General College & University','Law School','Medical School','Sorority House','Student Center','Trade School','University'],\n",
    "\n",
    "'Event':['Conference','Convention','Festival','Music Festival','Other Event','Parade','Stoop Sale','Street Fair'],\n",
    "\n",
    "'Food':['Afghan Restaurant','African Restaurant','Ethiopian Restaurant','American Restaurant','New American Restaurant','Asian Restaurant','Cambodian Restaurant','Filipino Restaurant','Himalayan Restaurant','Hotpot Restaurant','Suggested Countries: CA, CN, HK, JP, KR, MO, MY, SG, TH, TW, US, VN','Japanese Restaurant','Donburi Restaurant','Suggested Countries: JP','Japanese Curry Restaurant','Kaiseki Restaurant','Suggested Countries: JP','Kushikatsu Restaurant','Suggested Countries: JP','Monjayaki Restaurant','Suggested Countries: JP','Nabe Restaurant','Suggested Countries: JP','Okonomiyaki Restaurant','Suggested Countries: JP','Ramen Restaurant','Shabu-Shabu Restaurant','Soba Restaurant','Sukiyaki Restaurant','Suggested Countries: JP','Sushi Restaurant','Takoyaki Place','Suggested Countries: JP','Tempura Restaurant','Suggested Countries: JP','Tonkatsu Restaurant','Suggested Countries: JP','Udon Restaurant','Unagi Restaurant','Suggested Countries: JP','Wagashi Place','Suggested Countries: JP','Yakitori Restaurant','Suggested Countries: JP','Yoshoku Restaurant','Suggested Countries: JP','Korean Restaurant','Malaysian Restaurant','Mongolian Restaurant','Noodle House','Thai Restaurant','Tibetan Restaurant','Vietnamese Restaurant','Australian Restaurant','Austrian Restaurant','BBQ Joint','Bagel Shop','Bakery','Belgian Restaurant','Bistro','Brazilian Restaurant','Acai House','Suggested Countries: BR','Baiano Restaurant','Suggested Countries: BR','Central Brazilian Restaurant','Suggested Countries: BR','Churrascaria','Suggested Countries: BR','Empada House','Suggested Countries: BR','Goiano Restaurant','Suggested Countries: BR','Mineiro Restaurant','Suggested Countries: BR','Northeastern Brazilian Restaurant','Suggested Countries: BR','Northern Brazilian Restaurant','Suggested Countries: BR','Pastelaria','Suggested Countries: BR','Southeastern Brazilian Restaurant','Suggested Countries: BR','Southern Brazilian Restaurant','Suggested Countries: BR','Tapiocaria','Suggested Countries: BR','Breakfast Spot','Bubble Tea Shop','Buffet','Burger Joint','Cafeteria','Café','Cajun / Creole Restaurant','Caribbean Restaurant','Caucasian Restaurant','Suggested Countries: RU','Chinese Restaurant','Anhui Restaurant','Suggested Countries: CN, HK, MO, MY, SG, TW','Beijing Restaurant','Suggested Countries: CN, HK, MO, MY, SG, TW','Cantonese Restaurant','Chinese Aristocrat Restaurant','Suggested Countries: CN, HK, MO, MY, SG, TW','Chinese Breakfast Place','Suggested Countries: CN, HK, MO, MY, SG, TW','Dim Sum Restaurant','Dongbei Restaurant','Suggested Countries: CN, HK, MO, MY, SG, TW','Fujian Restaurant','Suggested Countries: CA, CN, HK, MO, MY, SG, TW, US','Guizhou Restaurant','Suggested Countries: CN, HK, MO, MY, SG, TW','Hainan Restaurant','Suggested Countries: CN, HK, MO, MY, SG, TW','Hakka Restaurant','Suggested Countries: CN, HK, MO, MY, SG, TW','Henan Restaurant','Suggested Countries: CN, HK, MO, MY, SG, TW','Hong Kong Restaurant','Suggested Countries: CN, HK, MO, MY, SG, TW','Huaiyang Restaurant','Suggested Countries: CN, HK, MO, MY, SG, TW','Hubei Restaurant','Suggested Countries: CN, HK, MO, MY, SG, TW','Hunan Restaurant','Suggested Countries: CA, CN, HK, MO, MY, SG, TW, US','Imperial Restaurant','Suggested Countries: CN, HK, MO, MY, SG, TW','Jiangsu Restaurant','Suggested Countries: CN, HK, MO, MY, SG, TW','Jiangxi Restaurant','Suggested Countries: CN, HK, MO, MY, SG, TW','Macanese Restaurant','Suggested Countries: CN, HK, MO, MY, SG, TW','Manchu Restaurant','Suggested Countries: CN, HK, MO, MY, SG, TW','Peking Duck Restaurant','Suggested Countries: CA, CN, HK, MO, MY, SG, TW, US','Shaanxi Restaurant','Suggested Countries: CN, HK, MO, MY, SG, TW','Shandong Restaurant','Suggested Countries: CN, HK, MO, MY, SG, TW','Shanghai Restaurant','Suggested Countries: CA, CN, HK, MO, MY, SG, TW, US','Shanxi Restaurant','Suggested Countries: CN, HK, MO, MY, SG, TW','Szechuan Restaurant','Taiwanese Restaurant','Suggested Countries: CA, CN, HK, MO, MY, SG, TW, US','Tianjin Restaurant','Suggested Countries: CN, HK, MO, MY, SG, TW','Xinjiang Restaurant','Suggested Countries: CN, HK, MO, MY, SG, TW','Yunnan Restaurant','Suggested Countries: CN, HK, MO, MY, SG, TW','Zhejiang Restaurant','Suggested Countries: CN, HK, MO, MY, SG, TW','Coffee Shop','Comfort Food Restaurant','Creperie','Czech Restaurant','Deli / Bodega','Dessert Shop','Cupcake Shop','Donut Shop','Frozen Yogurt','Ice Cream Shop','Pie Shop','Diner','Distillery','Dumpling Restaurant','Eastern European Restaurant','Belarusian Restaurant','Suggested Countries: AM, AZ, BY, GE, KY, KZ, MO, RU, TJ, TM, UA, UZ','Romanian Restaurant','Tatar Restaurant','Suggested Countries: AM, AZ, BY, GE, KY, KZ, MO, RU, TJ, TM, UA, UZ','English Restaurant','Falafel Restaurant','Fast Food Restaurant','Fish & Chips Shop','Fondue Restaurant','Food Court','Food Truck','French Restaurant','Fried Chicken Joint','Gastropub','German Restaurant','Gluten-free Restaurant','Greek Restaurant','Bougatsa Shop','Suggested Countries: GR','Cretan Restaurant','Suggested Countries: GR','Fish Taverna','Suggested Countries: GR','Grilled Meat Restaurant','Suggested Countries: GR','Kafenio','Suggested Countries: GR','Magirio','Suggested Countries: GR','Meze Restaurant','Suggested Countries: GR','Modern Greek Restaurant','Suggested Countries: GR','Ouzeri','Suggested Countries: GR','Patsa Restaurant','Suggested Countries: GR','Souvlaki Shop','Taverna','Suggested Countries: GR','Tsipouro Restaurant','Suggested Countries: GR','Halal Restaurant','Hawaiian Restaurant','Hot Dog Joint','Hungarian Restaurant','Indian Restaurant','Andhra Restaurant','Suggested Countries: IN','Awadhi Restaurant','Suggested Countries: IN','Bengali Restaurant','Suggested Countries: IN','Chaat Place','Chettinad Restaurant','Suggested Countries: IN','Dhaba','Suggested Countries: IN','Dosa Place','Suggested Countries: US','Goan Restaurant','Suggested Countries: IN','Gujarati Restaurant','Suggested Countries: IN','Hyderabadi Restaurant','Suggested Countries: IN','Indian Chinese Restaurant','Indian Sweet Shop','Suggested Countries: IN','Irani Cafe','Suggested Countries: IN','Jain Restaurant','Suggested Countries: IN','Karnataka Restaurant','Suggested Countries: IN','Kerala Restaurant','Suggested Countries: IN','Maharashtrian Restaurant','Suggested Countries: IN','Mughlai Restaurant','Suggested Countries: IN','Multicuisine Indian Restaurant','Suggested Countries: IN','North Indian Restaurant','Northeast Indian Restaurant','Suggested Countries: IN','Parsi Restaurant','Suggested Countries: IN','Punjabi Restaurant','Suggested Countries: IN','Rajasthani Restaurant','Suggested Countries: IN','South Indian Restaurant','Udupi Restaurant','Suggested Countries: IN','Indonesian Restaurant','Acehnese Restaurant','Suggested Countries: ID','Balinese Restaurant','Suggested Countries: ID','Betawinese Restaurant','Suggested Countries: ID','Indonesian Meatball Place','Suggested Countries: ID','Javanese Restaurant','Suggested Countries: ID','Manadonese Restaurant','Suggested Countries: ID','Padangnese Restaurant','Suggested Countries: ID','Sundanese Restaurant','Suggested Countries: ID','Irish Pub','Italian Restaurant','Abruzzo Restaurant','Suggested Countries: IT','Agriturismo','Suggested Countries: IT','Aosta Restaurant','Suggested Countries: IT','Basilicata Restaurant','Suggested Countries: IT','Calabria Restaurant','Suggested Countries: IT','Campanian Restaurant','Suggested Countries: IT','Emilia Restaurant','Suggested Countries: IT','Friuli Restaurant','Suggested Countries: IT','Ligurian Restaurant','Suggested Countries: IT','Lombard Restaurant','Suggested Countries: IT','Malga','Suggested Countries: IT','Marche Restaurant','Suggested Countries: IT','Molise Restaurant','Suggested Countries: IT','Piadineria','Suggested Countries: IT','Piedmontese Restaurant','Suggested Countries: IT','Puglia Restaurant','Suggested Countries: IT','Rifugio di Montagna','Suggested Countries: IT','Romagna Restaurant','Suggested Countries: IT','Roman Restaurant','Suggested Countries: IT','Sardinian Restaurant','Suggested Countries: IT','Sicilian Restaurant','Suggested Countries: IT','South Tyrolean Restaurant','Suggested Countries: IT','Trattoria/Osteria','Suggested Countries: IT','Trentino Restaurant','Suggested Countries: IT','Tuscan Restaurant','Suggested Countries: IT','Umbrian Restaurant','Suggested Countries: IT','Veneto Restaurant','Suggested Countries: IT','Jewish Restaurant','Kosher Restaurant','Juice Bar','Latin American Restaurant','Arepa Restaurant','Cuban Restaurant','Empanada Restaurant','Mac & Cheese Joint','Suggested Countries: CA, US','Mediterranean Restaurant','Moroccan Restaurant','Mexican Restaurant','Burrito Place','Taco Place','Middle Eastern Restaurant','Persian Restaurant','Modern European Restaurant','Molecular Gastronomy Restaurant','Pakistani Restaurant','Pizza Place','Polish Restaurant','Portuguese Restaurant','Restaurant','Russian Restaurant','Blini House','Suggested Countries: AM, AZ, BY, GE, KY, KZ, MO, RU, TJ, TM, UA, UZ','Pelmeni House','Suggested Countries: AM, AZ, BY, GE, KY, KZ, MO, RU, TJ, TM, UA, UZ','Salad Place','Sandwich Place','Scandinavian Restaurant','Seafood Restaurant','Snack Place','Soup Place','South American Restaurant','Argentinian Restaurant','Peruvian Restaurant','Southern / Soul Food Restaurant','Spanish Restaurant','Paella Restaurant','Tapas Restaurant','Sri Lankan Restaurant','Steakhouse','Swiss Restaurant','Tea Room','Turkish Restaurant','Borek Place','Suggested Countries: TR','Cigkofte Place','Suggested Countries: TR','Doner Restaurant','Suggested Countries: AT, BE, CA, CH, DE, DK, FR, PL, TR','Gozleme Place','Suggested Countries: TR','Kebab Restaurant','Suggested Countries: AT, AU, BE, BR, CH, CZ, DK, ES, FI, FR, IE, IT, NO, NZ, PL, SE, TR','Kofte Place','Suggested Countries: TR','Kokoreç Restaurant','Suggested Countries: TR','Manti Place','Suggested Countries: TR','Meyhane','Suggested Countries: TR','Pide Place','Suggested Countries: TR','Turkish Home Cooking Restaurant','Suggested Countries: TR','Ukrainian Restaurant','Varenyky restaurant','Suggested Countries: AM, AZ, BY, GE, KY, KZ, MO, RU, TJ, TM, UA, UZ','West-Ukrainian Restaurant','Suggested Countries: AM, AZ, BY, GE, KY, KZ, MO, RU, TJ, TM, UA, UZ','Vegetarian / Vegan Restaurant','Winery','Wings Joint'],\n",
    "\n",
    "'Nightlife Spot':['Bar','Beach Bar','Beer Garden','Champagne Bar','Suggested Countries: GB','Cocktail Bar','Dive Bar','Gay Bar','Hookah Bar','Hotel Bar','Karaoke Bar','Pub','Sake Bar','Sports Bar','Whisky Bar','Wine Bar','Brewery','Lounge','Night Market','Nightclub','Other Nightlife','Speakeasy','Strip Club'],\n",
    "\n",
    "'Outdoors & Recreation':['Athletics & Sports','Badminton Court','Baseball Field','Basketball Court','Bowling Green','Golf Course','Hockey Field','Paintball Field','Rugby Pitch','Skate Park','Skating Rink','Soccer Field','Sports Club','Squash Court','Tennis Court','Volleyball Court','Bath House','Bathing Area','Beach','Nudist Beach','Surf Spot','Botanical Garden','Bridge','Campground','Castle','Cemetery','Dive Spot','Dog Run','Farm','Field','Fishing Spot','Forest','Garden','Gun Range','Harbor / Marina','Hot Spring','Island','Lake','Lighthouse','Mountain','National Park','Nature Preserve','Other Great Outdoors','Palace','Park','Pedestrian Plaza','Playground','Plaza','Pool','Rafting','Recreation Center','River','Rock Climbing Spot','Scenic Lookout','Sculpture Garden','Ski Area','Apres Ski Bar','Ski Chairlift','Ski Chalet','Ski Lodge','Ski Trail','Stables','States & Municipalities','City','County','Country','Neighborhood','State','Town','Village','Summer Camp','Trail','Tree','Vineyard','Volcano','Well'],\n",
    "\n",
    "'Professional & Other Places':['Animal Shelter','Auditorium','Building','Club House','Community Center','Convention Center','Meeting Room','Cultural Center','Distribution Center','Event Space','Factory','Fair','Funeral Home','Government Building','Capitol Building','City Hall','Courthouse','Embassy / Consulate','Fire Station','Monument / Landmark','Police Station','Town Hall','Library','Medical Center','Acupuncturist','Alternative Healer','Chiropractor','Dentist\\'s Office','Doctor\\'s Office','Emergency Room','Eye Doctor','Hospital','Laboratory','Mental Health Office','Veterinarian','Military Base','Non-Profit','Office','Advertising Agency','Campaign Office','Conference Room','Corporate Cafeteria','Coworking Space','Tech Startup','Parking','Post Office','Prison','Radio Station','Recruiting Agency','School','Circus School','Driving School','Elementary School','Flight School','High School','Language School','Middle School','Music School','Nursery School','Preschool','Private School','Religious School','Swim School','Social Club','Spiritual Center','Buddhist Temple','Church','Hindu Temple','Monastery','Mosque','Prayer Room','Shrine','Synagogue','Temple','TV Station','Voting Booth','Warehouse'],\n",
    "\n",
    "'Residence':['Assisted Living','Home (private)','Housing Development','Residential Building (Apartment / Condo)','Trailer Park'],\n",
    "\n",
    "'Shop & Service':['ATM','Adult Boutique','Antique Shop','Arts & Crafts Store','Astrologer','Auto Garage','Automotive Shop','Baby Store','Bank','Betting Shop','Big Box Store','Bike Shop','Board Shop','Bookstore','Bridal Shop','Business Service','Camera Store','Candy Store','Car Dealership','Car Wash','Carpet Store','Check Cashing Service','Chocolate Shop','Christmas Market','Clothing Store','Accessories Store','Boutique','Kids Store','Lingerie Store','Men\\'s Store','Shoe Store','Women\\'s Store','Comic Shop','Construction & Landscaping','Convenience Store','Cosmetics Shop','Costume Shop','Credit Union','Daycare','Department Store','Design Studio','Discount Store','Dive Shop','Drugstore / Pharmacy','Dry Cleaner','EV Charging Station','Electronics Store','Event Service','Fabric Shop','Financial or Legal Service','Fireworks Store','Fishing Store','Flea Market','Flower Shop','Food & Drink Shop','Beer Store','Butcher','Cheese Shop','Farmers Market','Fish Market','Gourmet Shop','Grocery Store','Health Food Store','Liquor Store','Organic Grocery','Street Food Gathering','Supermarket','Wine Shop','Frame Store','Fruit & Vegetable Store','Furniture / Home Store','Lighting Store','Gaming Cafe','Garden Center','Gas Station / Garage','Gift Shop','Gun Shop','Gym / Fitness Center','Boxing Gym','Climbing Gym','Cycle Studio','Gym Pool','Gymnastics Gym','Gym','Martial Arts Dojo','Track','Yoga Studio','Hardware Store','Health & Beauty Service','Herbs & Spices Store','Hobby Shop','Home Service','Hunting Supply','IT Services','Internet Cafe','Jewelry Store','Knitting Store','Laundromat','Laundry Service','Lawyer','Leather Goods Store','Locksmith','Lottery Retailer','Suggested Countries: BR, HU, TR','Luggage Store','Mall','Marijuana Dispensary','Suggested Countries: US','Market','Massage Studio','Mattress Store','Miscellaneous Shop','Mobile Phone Shop','Motorcycle Shop','Music Store','Nail Salon','Newsstand','Optical Shop','Other Repair Shop','Outdoor Supply Store','Outlet Store','Paper / Office Supplies Store','Pawn Shop','Perfume Shop','Pet Service','Pet Store','Photography Lab','Photography Studio','Piercing Parlor','Pop-Up Shop','Print Shop','Real Estate Office','Record Shop','Recording Studio','Recycling Facility','Salon / Barbershop','Shipping Store','Shoe Repair','Smoke Shop','Smoothie Shop','Souvenir Shop','Spa','Sporting Goods Shop','Stationery Store','Storage Facility','Tailor Shop','Tanning Salon','Tattoo Parlor','Thrift / Vintage Store','Toy / Game Store','Travel Agency','Used Bookstore','Video Game Store','Video Store','Warehouse Store','Watch Repair Shop'],\n",
    "\n",
    "'Travel & Transport':['Airport','Airport Food Court','Airport Gate','Airport Lounge','Airport Terminal','Airport Tram','Plane','Bike Rental / Bike Share','Boat or Ferry','Border Crossing','Bus Station','Bus Line','Bus Stop','Cable Car','Cruise','General Travel','Hotel','Bed & Breakfast','Boarding House','Hostel','Hotel Pool','Motel','Resort','Roof Deck','Intersection','Light Rail Station','Metro Station','Moving Target','Pier','RV Park','Rental Car Location','Rest Area','Road','Street','Taxi Stand','Taxi','Toll Booth','Toll Plaza','Tourist Information Center','Train Station','Platform','Train','Tram Station','Transportation Service','Travel Lounge','Tunnel']}\n",
    "\n",
    "def inlist(elem,dic):\n",
    "    for i in range(len(list(dic.values()))):\n",
    "        if elem in list(dic.values())[i]:\n",
    "                   return list(dic.keys())[i]\n",
    "    \n",
    "    return \"Not found\""
   ]
  },
  {
   "cell_type": "code",
   "execution_count": null,
   "metadata": {},
   "outputs": [],
   "source": [
    "import numpy as np"
   ]
  },
  {
   "cell_type": "code",
   "execution_count": null,
   "metadata": {},
   "outputs": [],
   "source": [
    "li_d=[]\n",
    "urls=[]\n",
    "lis=[]\n",
    "for lat,lon,area in zip(df_merge[\"Latitude\"],df_merge[\"Longitude\"],df_merge[\"Area\"]):\n",
    "    rad=1000*np.sqrt(area/np.pi)\n",
    "    url=f\"https://api.foursquare.com/v2/venues/search?client_id={CLIENT_ID}&client_secret={CLIENT_SECRET}&ll={lat},{lon}&v={VERSION}&radius={rad}&limit={50}\"\n",
    "    urls.append(url)\n",
    "    print(url)\n",
    "    response=flatten_json(requests.get(url).json())\n",
    "    li=[]\n",
    "    for elem in response:\n",
    "        if \"categories_0_name\" in elem:\n",
    "            li.append(response[elem])\n",
    "    print(len(li))\n",
    "    lis.append(li)\n",
    "    dic1=dict()\n",
    "    for elem in li:\n",
    "        if inlist(elem,dic) != \"Not found\":\n",
    "            if inlist(elem,dic) not in dic1:\n",
    "                dic1[inlist(elem,dic)]=1\n",
    "            else:\n",
    "                dic1[inlist(elem,dic)]+=1\n",
    "    li_d.append(dic1)   "
   ]
  },
  {
   "cell_type": "code",
   "execution_count": null,
   "metadata": {},
   "outputs": [],
   "source": [
    "dictrial=dict()\n",
    "for elem in li:\n",
    "    print(elem)\n",
    "    print(inlist(elem,dic))\n",
    "    if inlist(elem,dic) != \"Not found\":\n",
    "        if inlist(elem,dic) not in dictrial:\n",
    "            dictrial[inlist(elem,dic)]=1\n",
    "        else:\n",
    "            dictrial[inlist(elem,dic)]+=1"
   ]
  },
  {
   "cell_type": "code",
   "execution_count": null,
   "metadata": {},
   "outputs": [],
   "source": [
    "[{'Travel & Transport': 6,\n",
    "  'Outdoors & Recreation': 7,\n",
    "  'Food': 5,\n",
    "  'Arts & Entertainment': 1,\n",
    "  'Shop & Service': 6,\n",
    "  'College & University': 1,\n",
    "  'Residence': 7,\n",
    "  'Professional & Other Places': 9},\n",
    " {'Shop & Service': 10,\n",
    "  'Professional & Other Places': 7,\n",
    "  'Food': 4,\n",
    "  'Travel & Transport': 3,\n",
    "  'Residence': 4,\n",
    "  'Outdoors & Recreation': 3}]"
   ]
  },
  {
   "cell_type": "code",
   "execution_count": null,
   "metadata": {},
   "outputs": [],
   "source": [
    "df_merge"
   ]
  },
  {
   "cell_type": "code",
   "execution_count": null,
   "metadata": {},
   "outputs": [],
   "source": [
    "urlt=f\"https://api.foursquare.com/v2/venues/search?client_id={CLIENT_ID}&client_secret={CLIENT_SECRET}&ll={43.636258},{-79.498509}&v={VERSION}&radius={1455}&limit={50}\"\n",
    "responset=flatten_json(requests.get(urlt).json())\n",
    "lit=[]\n",
    "for elem in responset:\n",
    "    if \"categories_0_name\" in elem:\n",
    "        lit.append(responset[elem])\n",
    "print(len(lit))"
   ]
  },
  {
   "cell_type": "code",
   "execution_count": null,
   "metadata": {},
   "outputs": [],
   "source": [
    "df_merge[\"Place categories\"]=lis"
   ]
  },
  {
   "cell_type": "code",
   "execution_count": null,
   "metadata": {},
   "outputs": [],
   "source": [
    "df_merge.iloc[15]"
   ]
  },
  {
   "cell_type": "code",
   "execution_count": null,
   "metadata": {},
   "outputs": [],
   "source": [
    "df_merge.iloc[15].URL"
   ]
  },
  {
   "cell_type": "code",
   "execution_count": null,
   "metadata": {},
   "outputs": [],
   "source": [
    "df_merge[\"Travel\"]=li_d[:][\"Travel & Transport\"]"
   ]
  },
  {
   "cell_type": "code",
   "execution_count": null,
   "metadata": {},
   "outputs": [],
   "source": [
    "len(li_d)"
   ]
  },
  {
   "cell_type": "code",
   "execution_count": null,
   "metadata": {},
   "outputs": [],
   "source": [
    "tr=[]\n",
    "odr=[]\n",
    "fd=[]\n",
    "AE=[]\n",
    "SS=[]\n",
    "Rs=[]\n",
    "CU=[]\n",
    "Prof=[]\n",
    "EV=[]\n",
    "NS=[]\n",
    "for elem in li_d:\n",
    "    try:\n",
    "        tr.append(elem[\"Travel & Transport\"])\n",
    "    except:\n",
    "        tr.append(0)\n",
    "    try:\n",
    "        odr.append(elem['Outdoors & Recreation'])\n",
    "    except:\n",
    "        odr.append(0)\n",
    "    try:\n",
    "        fd.append(elem['Food'])\n",
    "    except:\n",
    "        fd.append(0)\n",
    "    try:\n",
    "        AE.append(elem['Arts & Entertainment'])\n",
    "    except:\n",
    "        AE.append(0)\n",
    "    try:\n",
    "        SS.append(elem['Shop & Service'])\n",
    "    except:\n",
    "        SS.append(0)\n",
    "    try:\n",
    "        Rs.append(elem['Residence'])\n",
    "    except:\n",
    "        Rs.append(0)\n",
    "    try:\n",
    "        Prof.append(elem['Professional & Other Places'])\n",
    "    except:\n",
    "        Prof.append(0)\n",
    "    try:\n",
    "        CU.append(elem['College & University'])\n",
    "    except:\n",
    "        CU.append(0)\n",
    "    try:\n",
    "        EV.append(elem[\"Event\"])\n",
    "    except:\n",
    "        EV.append(0)\n",
    "    try:\n",
    "        NS.append(elem[\"Nightlife Spot\"])\n",
    "    except:\n",
    "        NS.append(0)\n",
    "    "
   ]
  },
  {
   "cell_type": "code",
   "execution_count": null,
   "metadata": {},
   "outputs": [],
   "source": [
    "df_merge[\"Travel\"]=tr\n",
    "df_merge[\"Outdoors\"]=odr\n",
    "df_merge[\"Food\"]=fd\n",
    "df_merge[\"Arts\"]=AE\n",
    "df_merge[\"Shops\"]=SS\n",
    "df_merge[\"Residence\"]=Rs\n",
    "df_merge[\"Professional\"]=Prof\n",
    "df_merge[\"College\"]=CU\n",
    "df_merge[\"Events\"]=EV\n",
    "df_merge[\"Nightlife\"]=NS"
   ]
  },
  {
   "cell_type": "code",
   "execution_count": null,
   "metadata": {},
   "outputs": [],
   "source": [
    "df_merge"
   ]
  },
  {
   "cell_type": "code",
   "execution_count": null,
   "metadata": {},
   "outputs": [],
   "source": [
    "df_merge.to_pickle(\"./df_merge_withPop_with_FScategories\")"
   ]
  },
  {
   "cell_type": "code",
   "execution_count": null,
   "metadata": {},
   "outputs": [],
   "source": [
    "for i in df_merge.index:\n",
    "    print(i)\n",
    "    try:\n",
    "        df_merge[\"Travel1\"][i]=li_d[i][\"Travel & Transport\"]\n",
    "    except:\n",
    "        df_merge[\"Travel1\"][i]=0"
   ]
  },
  {
   "cell_type": "code",
   "execution_count": null,
   "metadata": {},
   "outputs": [],
   "source": [
    "df_merge"
   ]
  },
  {
   "cell_type": "code",
   "execution_count": 3,
   "metadata": {},
   "outputs": [],
   "source": [
    "df=pd.read_pickle(\"./df_merge_withPop_with_FScategories\")"
   ]
  },
  {
   "cell_type": "code",
   "execution_count": 5,
   "metadata": {},
   "outputs": [],
   "source": [
    "df=df.drop(\"URL\",axis=1)"
   ]
  },
  {
   "cell_type": "code",
   "execution_count": 7,
   "metadata": {},
   "outputs": [],
   "source": [
    "df.to_pickle(\"./df_merge_withPop_with_FScategories\")"
   ]
  },
  {
   "cell_type": "code",
   "execution_count": null,
   "metadata": {},
   "outputs": [],
   "source": []
  }
 ],
 "metadata": {
  "kernelspec": {
   "display_name": "Python 3",
   "language": "python",
   "name": "python3"
  },
  "language_info": {
   "codemirror_mode": {
    "name": "ipython",
    "version": 3
   },
   "file_extension": ".py",
   "mimetype": "text/x-python",
   "name": "python",
   "nbconvert_exporter": "python",
   "pygments_lexer": "ipython3",
   "version": "3.8.5"
  }
 },
 "nbformat": 4,
 "nbformat_minor": 4
}
