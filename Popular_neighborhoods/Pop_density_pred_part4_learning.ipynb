{
 "cells": [
  {
   "cell_type": "markdown",
   "metadata": {},
   "source": [
    "## Part1: Predicting population density"
   ]
  },
  {
   "cell_type": "code",
   "execution_count": 286,
   "metadata": {},
   "outputs": [],
   "source": [
    "import pandas as pd\n",
    "df=pd.read_pickle(\"./df_analysis_part1\")\n",
    "import warnings; warnings.simplefilter('ignore')"
   ]
  },
  {
   "cell_type": "code",
   "execution_count": 287,
   "metadata": {},
   "outputs": [
    {
     "data": {
      "text/plain": [
       "(73, 16)"
      ]
     },
     "execution_count": 287,
     "metadata": {},
     "output_type": "execute_result"
    }
   ],
   "source": [
    "df.shape"
   ]
  },
  {
   "cell_type": "code",
   "execution_count": 288,
   "metadata": {},
   "outputs": [],
   "source": [
    "from sklearn.linear_model import LinearRegression"
   ]
  },
  {
   "cell_type": "code",
   "execution_count": 289,
   "metadata": {},
   "outputs": [],
   "source": [
    "from statsmodels.regression.linear_model import OLS"
   ]
  },
  {
   "cell_type": "code",
   "execution_count": 295,
   "metadata": {},
   "outputs": [],
   "source": [
    "from sklearn.model_selection import train_test_split"
   ]
  },
  {
   "cell_type": "code",
   "execution_count": 300,
   "metadata": {},
   "outputs": [],
   "source": [
    "X=df[['Travel', 'Outdoors', 'Food', 'Arts',\n",
    "       'Shops', 'Residence', 'Professional', 'Distance_to_Downtown [Km]',\n",
    "       'Ratio_commuting', 'Ratio_renting', 'Average_income',\n",
    "       'Population_change_ratio']]\n",
    "y=df.Population_density"
   ]
  },
  {
   "cell_type": "code",
   "execution_count": 301,
   "metadata": {},
   "outputs": [],
   "source": [
    "X_train,X_test,y_train,y_test=train_test_split(X,y,random_state=0,test_size=0.2)"
   ]
  },
  {
   "cell_type": "code",
   "execution_count": 302,
   "metadata": {},
   "outputs": [],
   "source": [
    "result=OLS(y_train,X_train).fit()"
   ]
  },
  {
   "cell_type": "code",
   "execution_count": 303,
   "metadata": {},
   "outputs": [
    {
     "data": {
      "text/html": [
       "<table class=\"simpletable\">\n",
       "<caption>OLS Regression Results</caption>\n",
       "<tr>\n",
       "  <th>Dep. Variable:</th>    <td>Population_density</td> <th>  R-squared (uncentered):</th>      <td>   0.975</td>\n",
       "</tr>\n",
       "<tr>\n",
       "  <th>Model:</th>                    <td>OLS</td>        <th>  Adj. R-squared (uncentered):</th> <td>   0.969</td>\n",
       "</tr>\n",
       "<tr>\n",
       "  <th>Method:</th>              <td>Least Squares</td>   <th>  F-statistic:       </th>          <td>   152.6</td>\n",
       "</tr>\n",
       "<tr>\n",
       "  <th>Date:</th>              <td>Mon, 15 Feb 2021</td>  <th>  Prob (F-statistic):</th>          <td>7.80e-33</td>\n",
       "</tr>\n",
       "<tr>\n",
       "  <th>Time:</th>                  <td>18:33:30</td>      <th>  Log-Likelihood:    </th>          <td> -512.87</td>\n",
       "</tr>\n",
       "<tr>\n",
       "  <th>No. Observations:</th>       <td>    58</td>       <th>  AIC:               </th>          <td>   1050.</td>\n",
       "</tr>\n",
       "<tr>\n",
       "  <th>Df Residuals:</th>           <td>    46</td>       <th>  BIC:               </th>          <td>   1074.</td>\n",
       "</tr>\n",
       "<tr>\n",
       "  <th>Df Model:</th>               <td>    12</td>       <th>                     </th>              <td> </td>   \n",
       "</tr>\n",
       "<tr>\n",
       "  <th>Covariance Type:</th>       <td>nonrobust</td>     <th>                     </th>              <td> </td>   \n",
       "</tr>\n",
       "</table>\n",
       "<table class=\"simpletable\">\n",
       "<tr>\n",
       "              <td></td>                 <th>coef</th>     <th>std err</th>      <th>t</th>      <th>P>|t|</th>  <th>[0.025</th>    <th>0.975]</th>  \n",
       "</tr>\n",
       "<tr>\n",
       "  <th>Travel</th>                    <td>  134.4153</td> <td>  459.410</td> <td>    0.293</td> <td> 0.771</td> <td> -790.329</td> <td> 1059.160</td>\n",
       "</tr>\n",
       "<tr>\n",
       "  <th>Outdoors</th>                  <td>   63.0317</td> <td>  174.750</td> <td>    0.361</td> <td> 0.720</td> <td> -288.723</td> <td>  414.786</td>\n",
       "</tr>\n",
       "<tr>\n",
       "  <th>Food</th>                      <td>  436.3577</td> <td>   88.945</td> <td>    4.906</td> <td> 0.000</td> <td>  257.321</td> <td>  615.394</td>\n",
       "</tr>\n",
       "<tr>\n",
       "  <th>Arts</th>                      <td>-1233.5241</td> <td>  592.926</td> <td>   -2.080</td> <td> 0.043</td> <td>-2427.022</td> <td>  -40.026</td>\n",
       "</tr>\n",
       "<tr>\n",
       "  <th>Shops</th>                     <td>   65.7052</td> <td>   84.286</td> <td>    0.780</td> <td> 0.440</td> <td> -103.954</td> <td>  235.364</td>\n",
       "</tr>\n",
       "<tr>\n",
       "  <th>Residence</th>                 <td>  268.5246</td> <td>  359.988</td> <td>    0.746</td> <td> 0.460</td> <td> -456.094</td> <td>  993.143</td>\n",
       "</tr>\n",
       "<tr>\n",
       "  <th>Professional</th>              <td>  326.9827</td> <td>  145.015</td> <td>    2.255</td> <td> 0.029</td> <td>   35.082</td> <td>  618.883</td>\n",
       "</tr>\n",
       "<tr>\n",
       "  <th>Distance_to_Downtown [Km]</th> <td>   34.2108</td> <td>   42.805</td> <td>    0.799</td> <td> 0.428</td> <td>  -51.951</td> <td>  120.373</td>\n",
       "</tr>\n",
       "<tr>\n",
       "  <th>Ratio_commuting</th>           <td>-4721.7994</td> <td> 6630.903</td> <td>   -0.712</td> <td> 0.480</td> <td>-1.81e+04</td> <td> 8625.516</td>\n",
       "</tr>\n",
       "<tr>\n",
       "  <th>Ratio_renting</th>             <td>   1.9e+04</td> <td> 3743.820</td> <td>    5.075</td> <td> 0.000</td> <td> 1.15e+04</td> <td> 2.65e+04</td>\n",
       "</tr>\n",
       "<tr>\n",
       "  <th>Average_income</th>            <td>   -0.0044</td> <td>    0.006</td> <td>   -0.759</td> <td> 0.452</td> <td>   -0.016</td> <td>    0.007</td>\n",
       "</tr>\n",
       "<tr>\n",
       "  <th>Population_change_ratio</th>   <td> 2671.0416</td> <td> 2083.591</td> <td>    1.282</td> <td> 0.206</td> <td>-1523.010</td> <td> 6865.093</td>\n",
       "</tr>\n",
       "</table>\n",
       "<table class=\"simpletable\">\n",
       "<tr>\n",
       "  <th>Omnibus:</th>       <td> 1.418</td> <th>  Durbin-Watson:     </th> <td>   1.779</td>\n",
       "</tr>\n",
       "<tr>\n",
       "  <th>Prob(Omnibus):</th> <td> 0.492</td> <th>  Jarque-Bera (JB):  </th> <td>   0.912</td>\n",
       "</tr>\n",
       "<tr>\n",
       "  <th>Skew:</th>          <td> 0.299</td> <th>  Prob(JB):          </th> <td>   0.634</td>\n",
       "</tr>\n",
       "<tr>\n",
       "  <th>Kurtosis:</th>      <td> 3.141</td> <th>  Cond. No.          </th> <td>2.03e+06</td>\n",
       "</tr>\n",
       "</table><br/><br/>Notes:<br/>[1] R² is computed without centering (uncentered) since the model does not contain a constant.<br/>[2] Standard Errors assume that the covariance matrix of the errors is correctly specified.<br/>[3] The condition number is large, 2.03e+06. This might indicate that there are<br/>strong multicollinearity or other numerical problems."
      ],
      "text/plain": [
       "<class 'statsmodels.iolib.summary.Summary'>\n",
       "\"\"\"\n",
       "                                 OLS Regression Results                                \n",
       "=======================================================================================\n",
       "Dep. Variable:     Population_density   R-squared (uncentered):                   0.975\n",
       "Model:                            OLS   Adj. R-squared (uncentered):              0.969\n",
       "Method:                 Least Squares   F-statistic:                              152.6\n",
       "Date:                Mon, 15 Feb 2021   Prob (F-statistic):                    7.80e-33\n",
       "Time:                        18:33:30   Log-Likelihood:                         -512.87\n",
       "No. Observations:                  58   AIC:                                      1050.\n",
       "Df Residuals:                      46   BIC:                                      1074.\n",
       "Df Model:                          12                                                  \n",
       "Covariance Type:            nonrobust                                                  \n",
       "=============================================================================================\n",
       "                                coef    std err          t      P>|t|      [0.025      0.975]\n",
       "---------------------------------------------------------------------------------------------\n",
       "Travel                      134.4153    459.410      0.293      0.771    -790.329    1059.160\n",
       "Outdoors                     63.0317    174.750      0.361      0.720    -288.723     414.786\n",
       "Food                        436.3577     88.945      4.906      0.000     257.321     615.394\n",
       "Arts                      -1233.5241    592.926     -2.080      0.043   -2427.022     -40.026\n",
       "Shops                        65.7052     84.286      0.780      0.440    -103.954     235.364\n",
       "Residence                   268.5246    359.988      0.746      0.460    -456.094     993.143\n",
       "Professional                326.9827    145.015      2.255      0.029      35.082     618.883\n",
       "Distance_to_Downtown [Km]    34.2108     42.805      0.799      0.428     -51.951     120.373\n",
       "Ratio_commuting           -4721.7994   6630.903     -0.712      0.480   -1.81e+04    8625.516\n",
       "Ratio_renting                1.9e+04   3743.820      5.075      0.000    1.15e+04    2.65e+04\n",
       "Average_income               -0.0044      0.006     -0.759      0.452      -0.016       0.007\n",
       "Population_change_ratio    2671.0416   2083.591      1.282      0.206   -1523.010    6865.093\n",
       "==============================================================================\n",
       "Omnibus:                        1.418   Durbin-Watson:                   1.779\n",
       "Prob(Omnibus):                  0.492   Jarque-Bera (JB):                0.912\n",
       "Skew:                           0.299   Prob(JB):                        0.634\n",
       "Kurtosis:                       3.141   Cond. No.                     2.03e+06\n",
       "==============================================================================\n",
       "\n",
       "Notes:\n",
       "[1] R² is computed without centering (uncentered) since the model does not contain a constant.\n",
       "[2] Standard Errors assume that the covariance matrix of the errors is correctly specified.\n",
       "[3] The condition number is large, 2.03e+06. This might indicate that there are\n",
       "strong multicollinearity or other numerical problems.\n",
       "\"\"\""
      ]
     },
     "execution_count": 303,
     "metadata": {},
     "output_type": "execute_result"
    }
   ],
   "source": [
    "result.summary()"
   ]
  },
  {
   "cell_type": "markdown",
   "metadata": {},
   "source": [
    "## Quite a few factors: \"Food\",\"Arts\",\"Residence\",\"Professional\",\"Ratio_renting\" have statistically significant relationships ( at 0.05 significance). We will make the model for PREDICTION (not analysis) and hence still consider all the features not just the statistically significant ones."
   ]
  },
  {
   "cell_type": "code",
   "execution_count": 177,
   "metadata": {},
   "outputs": [],
   "source": [
    "from sklearn.model_selection import train_test_split"
   ]
  },
  {
   "cell_type": "code",
   "execution_count": 178,
   "metadata": {},
   "outputs": [],
   "source": [
    "X_train,X_test,y_train,y_test=train_test_split(X.values,y.values,random_state=0,test_size=0.3)"
   ]
  },
  {
   "cell_type": "code",
   "execution_count": 179,
   "metadata": {},
   "outputs": [],
   "source": [
    "from sklearn.linear_model import LinearRegression"
   ]
  },
  {
   "cell_type": "code",
   "execution_count": 180,
   "metadata": {},
   "outputs": [],
   "source": [
    "l=LinearRegression().fit(X_train,y_train)"
   ]
  },
  {
   "cell_type": "code",
   "execution_count": 181,
   "metadata": {},
   "outputs": [
    {
     "data": {
      "text/plain": [
       "array([-0.02128575,  0.03979316,  0.54729801, -0.15629165,  0.11486623,\n",
       "        0.10478595,  0.21322136,  0.1439198 ,  0.06382973,  0.27088671,\n",
       "        0.05449937,  0.07495217])"
      ]
     },
     "execution_count": 181,
     "metadata": {},
     "output_type": "execute_result"
    }
   ],
   "source": [
    "l.coef_"
   ]
  },
  {
   "cell_type": "code",
   "execution_count": 182,
   "metadata": {},
   "outputs": [
    {
     "data": {
      "text/plain": [
       "0.0056509515181073534"
      ]
     },
     "execution_count": 182,
     "metadata": {},
     "output_type": "execute_result"
    }
   ],
   "source": [
    "l.intercept_"
   ]
  },
  {
   "cell_type": "code",
   "execution_count": 183,
   "metadata": {},
   "outputs": [],
   "source": [
    "y_pred=l.predict(X_test)"
   ]
  },
  {
   "cell_type": "code",
   "execution_count": 184,
   "metadata": {},
   "outputs": [],
   "source": [
    "from sklearn.metrics import explained_variance_score,r2_score"
   ]
  },
  {
   "cell_type": "code",
   "execution_count": 185,
   "metadata": {},
   "outputs": [],
   "source": [
    "import matplotlib.pyplot as plt"
   ]
  },
  {
   "cell_type": "code",
   "execution_count": 186,
   "metadata": {},
   "outputs": [
    {
     "data": {
      "text/plain": [
       "<matplotlib.collections.PathCollection at 0x127ca7370>"
      ]
     },
     "execution_count": 186,
     "metadata": {},
     "output_type": "execute_result"
    },
    {
     "data": {
      "image/png": "[encoded data removed]",
      "text/plain": [
       "<Figure size 432x288 with 1 Axes>"
      ]
     },
     "metadata": {
      "needs_background": "light"
     },
     "output_type": "display_data"
    }
   ],
   "source": [
    "plt.scatter(y_test,y_pred)"
   ]
  },
  {
   "cell_type": "code",
   "execution_count": 187,
   "metadata": {},
   "outputs": [
    {
     "data": {
      "text/plain": [
       "(22,)"
      ]
     },
     "execution_count": 187,
     "metadata": {},
     "output_type": "execute_result"
    }
   ],
   "source": [
    "y_pred.shape"
   ]
  },
  {
   "cell_type": "code",
   "execution_count": 188,
   "metadata": {},
   "outputs": [
    {
     "data": {
      "text/plain": [
       "0.8517550048362175"
      ]
     },
     "execution_count": 188,
     "metadata": {},
     "output_type": "execute_result"
    }
   ],
   "source": [
    "explained_variance_score(y_test,y_pred)"
   ]
  },
  {
   "cell_type": "code",
   "execution_count": 189,
   "metadata": {},
   "outputs": [
    {
     "data": {
      "text/plain": [
       "0.8510049354896208"
      ]
     },
     "execution_count": 189,
     "metadata": {},
     "output_type": "execute_result"
    }
   ],
   "source": [
    "r2_score(y_test,y_pred)"
   ]
  },
  {
   "cell_type": "markdown",
   "metadata": {},
   "source": [
    "## These scores suggest our prediction of Population density is quite good"
   ]
  },
  {
   "cell_type": "markdown",
   "metadata": {},
   "source": [
    "## Next we look at a different problem: Can we predict whether people move in or out of neighborhoods (binary classification) by factors such as Population density, distance to downtown, etc"
   ]
  },
  {
   "cell_type": "markdown",
   "metadata": {},
   "source": [
    "## Part2 : Predicting change in population by other factors"
   ]
  },
  {
   "cell_type": "code",
   "execution_count": 190,
   "metadata": {},
   "outputs": [],
   "source": [
    "df=pd.read_pickle(\"./df_analysis_scaled\")"
   ]
  },
  {
   "cell_type": "code",
   "execution_count": 191,
   "metadata": {},
   "outputs": [],
   "source": [
    "x=df[\"Population_change_ratio\"]>0"
   ]
  },
  {
   "cell_type": "code",
   "execution_count": 192,
   "metadata": {},
   "outputs": [],
   "source": [
    "df[\"Pop_change_direction\"]=x.astype(int)"
   ]
  },
  {
   "cell_type": "code",
   "execution_count": 193,
   "metadata": {},
   "outputs": [
    {
     "data": {
      "text/html": [
       "<div>\n",
       "<style scoped>\n",
       "    .dataframe tbody tr th:only-of-type {\n",
       "        vertical-align: middle;\n",
       "    }\n",
       "\n",
       "    .dataframe tbody tr th {\n",
       "        vertical-align: top;\n",
       "    }\n",
       "\n",
       "    .dataframe thead th {\n",
       "        text-align: right;\n",
       "    }\n",
       "</style>\n",
       "<table border=\"1\" class=\"dataframe\">\n",
       "  <thead>\n",
       "    <tr style=\"text-align: right;\">\n",
       "      <th></th>\n",
       "      <th>Population</th>\n",
       "      <th>Area</th>\n",
       "      <th>Population Change</th>\n",
       "      <th>Travel</th>\n",
       "      <th>Outdoors</th>\n",
       "      <th>Food</th>\n",
       "      <th>Arts</th>\n",
       "      <th>Shops</th>\n",
       "      <th>Residence</th>\n",
       "      <th>Professional</th>\n",
       "      <th>Distance_to_Downtown [Km]</th>\n",
       "      <th>Ratio_commuting</th>\n",
       "      <th>Ratio_renting</th>\n",
       "      <th>Average_income</th>\n",
       "      <th>Population_density</th>\n",
       "      <th>Population_change_ratio</th>\n",
       "      <th>Pop_change_direction</th>\n",
       "    </tr>\n",
       "  </thead>\n",
       "  <tbody>\n",
       "    <tr>\n",
       "      <th>0</th>\n",
       "      <td>0.339367</td>\n",
       "      <td>-0.139828</td>\n",
       "      <td>-0.480770</td>\n",
       "      <td>0.024579</td>\n",
       "      <td>0.088544</td>\n",
       "      <td>-0.394990</td>\n",
       "      <td>-0.330763</td>\n",
       "      <td>-0.517832</td>\n",
       "      <td>0.219225</td>\n",
       "      <td>-0.239143</td>\n",
       "      <td>0.240240</td>\n",
       "      <td>-0.282851</td>\n",
       "      <td>0.362417</td>\n",
       "      <td>-0.363314</td>\n",
       "      <td>-0.103868</td>\n",
       "      <td>-0.491152</td>\n",
       "      <td>0</td>\n",
       "    </tr>\n",
       "    <tr>\n",
       "      <th>1</th>\n",
       "      <td>-0.325515</td>\n",
       "      <td>-0.191230</td>\n",
       "      <td>-0.079046</td>\n",
       "      <td>-0.104122</td>\n",
       "      <td>-0.404600</td>\n",
       "      <td>-0.414596</td>\n",
       "      <td>-0.316934</td>\n",
       "      <td>-0.427676</td>\n",
       "      <td>-0.021613</td>\n",
       "      <td>-0.337047</td>\n",
       "      <td>-0.135931</td>\n",
       "      <td>0.064411</td>\n",
       "      <td>0.448880</td>\n",
       "      <td>-0.489573</td>\n",
       "      <td>-0.326732</td>\n",
       "      <td>-0.026165</td>\n",
       "      <td>0</td>\n",
       "    </tr>\n",
       "    <tr>\n",
       "      <th>2</th>\n",
       "      <td>0.214745</td>\n",
       "      <td>-0.664552</td>\n",
       "      <td>1.535975</td>\n",
       "      <td>0.317422</td>\n",
       "      <td>-0.019353</td>\n",
       "      <td>-0.031705</td>\n",
       "      <td>1.009584</td>\n",
       "      <td>0.063978</td>\n",
       "      <td>-0.213422</td>\n",
       "      <td>-0.003766</td>\n",
       "      <td>-1.423701</td>\n",
       "      <td>0.151230</td>\n",
       "      <td>1.203833</td>\n",
       "      <td>-0.031065</td>\n",
       "      <td>0.474941</td>\n",
       "      <td>2.284286</td>\n",
       "      <td>1</td>\n",
       "    </tr>\n",
       "    <tr>\n",
       "      <th>3</th>\n",
       "      <td>-0.292433</td>\n",
       "      <td>-0.058443</td>\n",
       "      <td>0.207539</td>\n",
       "      <td>-0.582889</td>\n",
       "      <td>-0.522679</td>\n",
       "      <td>-0.426607</td>\n",
       "      <td>-0.350116</td>\n",
       "      <td>0.066070</td>\n",
       "      <td>-0.383599</td>\n",
       "      <td>-0.459812</td>\n",
       "      <td>-0.145336</td>\n",
       "      <td>0.087502</td>\n",
       "      <td>0.282690</td>\n",
       "      <td>-0.359569</td>\n",
       "      <td>-0.369175</td>\n",
       "      <td>0.457845</td>\n",
       "      <td>1</td>\n",
       "    </tr>\n",
       "    <tr>\n",
       "      <th>4</th>\n",
       "      <td>-0.507331</td>\n",
       "      <td>-0.034884</td>\n",
       "      <td>-0.199227</td>\n",
       "      <td>0.522814</td>\n",
       "      <td>0.116807</td>\n",
       "      <td>-0.383656</td>\n",
       "      <td>-0.107697</td>\n",
       "      <td>-0.510618</td>\n",
       "      <td>-0.148474</td>\n",
       "      <td>-0.314616</td>\n",
       "      <td>0.349276</td>\n",
       "      <td>-0.716933</td>\n",
       "      <td>-0.089131</td>\n",
       "      <td>0.758836</td>\n",
       "      <td>-0.449816</td>\n",
       "      <td>-0.220756</td>\n",
       "      <td>0</td>\n",
       "    </tr>\n",
       "    <tr>\n",
       "      <th>...</th>\n",
       "      <td>...</td>\n",
       "      <td>...</td>\n",
       "      <td>...</td>\n",
       "      <td>...</td>\n",
       "      <td>...</td>\n",
       "      <td>...</td>\n",
       "      <td>...</td>\n",
       "      <td>...</td>\n",
       "      <td>...</td>\n",
       "      <td>...</td>\n",
       "      <td>...</td>\n",
       "      <td>...</td>\n",
       "      <td>...</td>\n",
       "      <td>...</td>\n",
       "      <td>...</td>\n",
       "      <td>...</td>\n",
       "      <td>...</td>\n",
       "    </tr>\n",
       "    <tr>\n",
       "      <th>68</th>\n",
       "      <td>-0.028751</td>\n",
       "      <td>0.331352</td>\n",
       "      <td>-0.546604</td>\n",
       "      <td>-0.582889</td>\n",
       "      <td>-0.476707</td>\n",
       "      <td>-0.381654</td>\n",
       "      <td>-0.414329</td>\n",
       "      <td>-0.519699</td>\n",
       "      <td>-0.383599</td>\n",
       "      <td>-0.274115</td>\n",
       "      <td>0.784214</td>\n",
       "      <td>-0.881388</td>\n",
       "      <td>-0.352555</td>\n",
       "      <td>-0.330127</td>\n",
       "      <td>-0.408741</td>\n",
       "      <td>-0.631258</td>\n",
       "      <td>0</td>\n",
       "    </tr>\n",
       "    <tr>\n",
       "      <th>69</th>\n",
       "      <td>0.287009</td>\n",
       "      <td>-0.853024</td>\n",
       "      <td>-0.495058</td>\n",
       "      <td>-0.582889</td>\n",
       "      <td>-0.003486</td>\n",
       "      <td>1.204437</td>\n",
       "      <td>0.224857</td>\n",
       "      <td>0.240615</td>\n",
       "      <td>-0.121548</td>\n",
       "      <td>-0.044154</td>\n",
       "      <td>-1.501432</td>\n",
       "      <td>1.792478</td>\n",
       "      <td>1.951611</td>\n",
       "      <td>-0.372394</td>\n",
       "      <td>1.238932</td>\n",
       "      <td>-0.512605</td>\n",
       "      <td>0</td>\n",
       "    </tr>\n",
       "    <tr>\n",
       "      <th>70</th>\n",
       "      <td>-0.904957</td>\n",
       "      <td>-0.649560</td>\n",
       "      <td>-0.015454</td>\n",
       "      <td>-0.290928</td>\n",
       "      <td>0.351551</td>\n",
       "      <td>-0.376103</td>\n",
       "      <td>0.442982</td>\n",
       "      <td>0.092714</td>\n",
       "      <td>-0.218039</td>\n",
       "      <td>-0.224773</td>\n",
       "      <td>-0.017943</td>\n",
       "      <td>-0.760341</td>\n",
       "      <td>-1.203584</td>\n",
       "      <td>1.501742</td>\n",
       "      <td>-0.353479</td>\n",
       "      <td>0.378767</td>\n",
       "      <td>1</td>\n",
       "    </tr>\n",
       "    <tr>\n",
       "      <th>71</th>\n",
       "      <td>-0.581347</td>\n",
       "      <td>-1.084330</td>\n",
       "      <td>0.108089</td>\n",
       "      <td>3.525804</td>\n",
       "      <td>0.291727</td>\n",
       "      <td>1.035593</td>\n",
       "      <td>1.849943</td>\n",
       "      <td>3.473570</td>\n",
       "      <td>2.722900</td>\n",
       "      <td>1.403630</td>\n",
       "      <td>-1.678736</td>\n",
       "      <td>2.126290</td>\n",
       "      <td>3.676963</td>\n",
       "      <td>-0.293693</td>\n",
       "      <td>2.333995</td>\n",
       "      <td>0.446781</td>\n",
       "      <td>1</td>\n",
       "    </tr>\n",
       "    <tr>\n",
       "      <th>72</th>\n",
       "      <td>0.468614</td>\n",
       "      <td>0.222124</td>\n",
       "      <td>-0.432306</td>\n",
       "      <td>-0.129800</td>\n",
       "      <td>-0.165645</td>\n",
       "      <td>-0.481333</td>\n",
       "      <td>0.005826</td>\n",
       "      <td>-0.621044</td>\n",
       "      <td>0.001794</td>\n",
       "      <td>-0.274171</td>\n",
       "      <td>-0.075975</td>\n",
       "      <td>-0.277383</td>\n",
       "      <td>0.372580</td>\n",
       "      <td>-0.070571</td>\n",
       "      <td>-0.242657</td>\n",
       "      <td>-0.430831</td>\n",
       "      <td>0</td>\n",
       "    </tr>\n",
       "  </tbody>\n",
       "</table>\n",
       "<p>73 rows × 17 columns</p>\n",
       "</div>"
      ],
      "text/plain": [
       "    Population      Area  Population Change    Travel  Outdoors      Food  \\\n",
       "0     0.339367 -0.139828          -0.480770  0.024579  0.088544 -0.394990   \n",
       "1    -0.325515 -0.191230          -0.079046 -0.104122 -0.404600 -0.414596   \n",
       "2     0.214745 -0.664552           1.535975  0.317422 -0.019353 -0.031705   \n",
       "3    -0.292433 -0.058443           0.207539 -0.582889 -0.522679 -0.426607   \n",
       "4    -0.507331 -0.034884          -0.199227  0.522814  0.116807 -0.383656   \n",
       "..         ...       ...                ...       ...       ...       ...   \n",
       "68   -0.028751  0.331352          -0.546604 -0.582889 -0.476707 -0.381654   \n",
       "69    0.287009 -0.853024          -0.495058 -0.582889 -0.003486  1.204437   \n",
       "70   -0.904957 -0.649560          -0.015454 -0.290928  0.351551 -0.376103   \n",
       "71   -0.581347 -1.084330           0.108089  3.525804  0.291727  1.035593   \n",
       "72    0.468614  0.222124          -0.432306 -0.129800 -0.165645 -0.481333   \n",
       "\n",
       "        Arts     Shops  Residence  Professional  Distance_to_Downtown [Km]  \\\n",
       "0  -0.330763 -0.517832   0.219225     -0.239143                   0.240240   \n",
       "1  -0.316934 -0.427676  -0.021613     -0.337047                  -0.135931   \n",
       "2   1.009584  0.063978  -0.213422     -0.003766                  -1.423701   \n",
       "3  -0.350116  0.066070  -0.383599     -0.459812                  -0.145336   \n",
       "4  -0.107697 -0.510618  -0.148474     -0.314616                   0.349276   \n",
       "..       ...       ...        ...           ...                        ...   \n",
       "68 -0.414329 -0.519699  -0.383599     -0.274115                   0.784214   \n",
       "69  0.224857  0.240615  -0.121548     -0.044154                  -1.501432   \n",
       "70  0.442982  0.092714  -0.218039     -0.224773                  -0.017943   \n",
       "71  1.849943  3.473570   2.722900      1.403630                  -1.678736   \n",
       "72  0.005826 -0.621044   0.001794     -0.274171                  -0.075975   \n",
       "\n",
       "    Ratio_commuting  Ratio_renting  Average_income  Population_density  \\\n",
       "0         -0.282851       0.362417       -0.363314           -0.103868   \n",
       "1          0.064411       0.448880       -0.489573           -0.326732   \n",
       "2          0.151230       1.203833       -0.031065            0.474941   \n",
       "3          0.087502       0.282690       -0.359569           -0.369175   \n",
       "4         -0.716933      -0.089131        0.758836           -0.449816   \n",
       "..              ...            ...             ...                 ...   \n",
       "68        -0.881388      -0.352555       -0.330127           -0.408741   \n",
       "69         1.792478       1.951611       -0.372394            1.238932   \n",
       "70        -0.760341      -1.203584        1.501742           -0.353479   \n",
       "71         2.126290       3.676963       -0.293693            2.333995   \n",
       "72        -0.277383       0.372580       -0.070571           -0.242657   \n",
       "\n",
       "    Population_change_ratio  Pop_change_direction  \n",
       "0                 -0.491152                     0  \n",
       "1                 -0.026165                     0  \n",
       "2                  2.284286                     1  \n",
       "3                  0.457845                     1  \n",
       "4                 -0.220756                     0  \n",
       "..                      ...                   ...  \n",
       "68                -0.631258                     0  \n",
       "69                -0.512605                     0  \n",
       "70                 0.378767                     1  \n",
       "71                 0.446781                     1  \n",
       "72                -0.430831                     0  \n",
       "\n",
       "[73 rows x 17 columns]"
      ]
     },
     "execution_count": 193,
     "metadata": {},
     "output_type": "execute_result"
    }
   ],
   "source": [
    "df"
   ]
  },
  {
   "cell_type": "code",
   "execution_count": 194,
   "metadata": {},
   "outputs": [],
   "source": [
    "y=df[\"Pop_change_direction\"].values"
   ]
  },
  {
   "cell_type": "code",
   "execution_count": 195,
   "metadata": {},
   "outputs": [],
   "source": [
    "X=df[['Travel', 'Outdoors', 'Food', 'Arts',\n",
    "       'Shops', 'Residence', 'Professional', 'Distance_to_Downtown [Km]',\n",
    "       'Ratio_commuting', 'Ratio_renting', 'Average_income',\n",
    "       'Population_density']].values"
   ]
  },
  {
   "cell_type": "code",
   "execution_count": 196,
   "metadata": {},
   "outputs": [],
   "source": [
    "X_train,X_test,y_train,y_test=train_test_split(X,y,random_state=0,test_size=0.3)"
   ]
  },
  {
   "cell_type": "markdown",
   "metadata": {},
   "source": [
    "## Classification by KNN"
   ]
  },
  {
   "cell_type": "code",
   "execution_count": 201,
   "metadata": {},
   "outputs": [],
   "source": [
    "import numpy as np\n",
    "Ks = 20\n",
    "mean_acc = np.zeros((Ks-1))\n",
    "std_acc = np.zeros((Ks-1))\n",
    "ConfustionMx = [];\n",
    "for n in range(1,Ks):  \n",
    "    neigh = KNeighborsClassifier(n_neighbors = n).fit(X_train,y_train)\n",
    "    yhat=neigh.predict(X_test)\n",
    "    mean_acc[n-1] = accuracy_score(y_test, yhat)\n",
    "\n",
    "    \n",
    "    std_acc[n-1]=np.std(yhat==y_test)/np.sqrt(yhat.shape[0])"
   ]
  },
  {
   "cell_type": "code",
   "execution_count": 202,
   "metadata": {},
   "outputs": [
    {
     "data": {
      "image/png": "[encoded data removed]",
      "text/plain": [
       "<Figure size 576x288 with 1 Axes>"
      ]
     },
     "metadata": {
      "needs_background": "light"
     },
     "output_type": "display_data"
    }
   ],
   "source": [
    "plt.figure(figsize=(8,4))\n",
    "plt.plot(range(1,Ks),mean_acc,'co-', linewidth=2, markersize=8)\n",
    "plt.fill_between(range(1,Ks),mean_acc - 1 * std_acc, mean_acc + 1 * std_acc, alpha=0.10)\n",
    "plt.legend(('Accuracy ', '+/- std X 3'))\n",
    "plt.xlim(0.5,20.5)\n",
    "plt.xticks(range(1,20))\n",
    "plt.title('Finding the optimal $k$ with the elbow method', size=14)\n",
    "plt.ylabel('Accuracy ')\n",
    "plt.xlabel('Num of neighbors (K)')\n",
    "plt.tight_layout()\n",
    "plt.show()"
   ]
  },
  {
   "cell_type": "markdown",
   "metadata": {},
   "source": [
    "### KNN is not doing quite good compared to just selecting at random (the shaded area in the above plot includes 0.5"
   ]
  },
  {
   "cell_type": "markdown",
   "metadata": {},
   "source": [
    "## Can we do any better?"
   ]
  },
  {
   "cell_type": "code",
   "execution_count": 305,
   "metadata": {},
   "outputs": [],
   "source": [
    "df=pd.read_pickle(\"./df_analysis_scaled\")"
   ]
  },
  {
   "cell_type": "code",
   "execution_count": 417,
   "metadata": {},
   "outputs": [],
   "source": [
    "x=df[\"Population_change_ratio\"]>0"
   ]
  },
  {
   "cell_type": "code",
   "execution_count": 418,
   "metadata": {},
   "outputs": [],
   "source": [
    "df[\"Pop_change_direction\"]=x.astype(int)"
   ]
  },
  {
   "cell_type": "code",
   "execution_count": 419,
   "metadata": {},
   "outputs": [
    {
     "data": {
      "text/plain": [
       "22"
      ]
     },
     "execution_count": 419,
     "metadata": {},
     "output_type": "execute_result"
    }
   ],
   "source": [
    "sum(x)"
   ]
  },
  {
   "cell_type": "code",
   "execution_count": 428,
   "metadata": {},
   "outputs": [],
   "source": [
    "y=df[\"Pop_change_direction\"].values\n",
    "X=df[['Travel', 'Outdoors', 'Food', 'Arts',\n",
    "       'Shops', 'Residence', 'Professional', 'Distance_to_Downtown [Km]',\n",
    "       'Ratio_commuting', 'Ratio_renting', 'Average_income',\n",
    "       'Population_density']].values\n",
    "\n",
    "X_train,X_test,y_train,y_test=train_test_split(X,y,random_state=0,test_size=0.2)"
   ]
  },
  {
   "cell_type": "code",
   "execution_count": 429,
   "metadata": {},
   "outputs": [
    {
     "name": "stdout",
     "output_type": "stream",
     "text": [
      "Best params: {'criterion': 'entropy', 'max_depth': 9, 'max_features': 5}\n",
      "Best score: 0.73\n"
     ]
    }
   ],
   "source": [
    "from sklearn.tree import DecisionTreeClassifier\n",
    "from sklearn.model_selection import GridSearchCV\n",
    "from sklearn.metrics import roc_auc_score\n",
    "\n",
    "param_grid = {'max_depth': np.arange(3, 10), 'max_features':np.arange(2, 9), 'criterion':['gini','entropy']}\n",
    "\n",
    "grid_DT = GridSearchCV(DecisionTreeClassifier(), param_grid, cv=10, iid=False)\n",
    "grid_DT.fit(X_train, y_train)\n",
    "print(f'Best params: {grid_DT.best_params_}')\n",
    "print(f'Best score: {grid_DT.best_score_}')\n",
    "best_tree = grid_DT.best_estimator_"
   ]
  },
  {
   "cell_type": "code",
   "execution_count": 430,
   "metadata": {},
   "outputs": [],
   "source": [
    "yhat=best_tree.predict(X_test)"
   ]
  },
  {
   "cell_type": "code",
   "execution_count": 431,
   "metadata": {},
   "outputs": [],
   "source": [
    "from sklearn.metrics import f1_score, accuracy_score"
   ]
  },
  {
   "cell_type": "code",
   "execution_count": 432,
   "metadata": {},
   "outputs": [
    {
     "name": "stdout",
     "output_type": "stream",
     "text": [
      "F1 score:  0.6909090909090909\n",
      "accuracy_score:  0.7333333333333333\n"
     ]
    }
   ],
   "source": [
    "print('F1 score: ', f1_score(y_test, yhat, average='weighted'))\n",
    "print('accuracy_score: ', accuracy_score(y_test, yhat))"
   ]
  },
  {
   "cell_type": "code",
   "execution_count": 433,
   "metadata": {},
   "outputs": [
    {
     "data": {
      "text/plain": [
       "array([0, 0, 0, 0, 0, 0, 1, 0, 0, 1, 0, 0, 0, 0, 0])"
      ]
     },
     "execution_count": 433,
     "metadata": {},
     "output_type": "execute_result"
    }
   ],
   "source": [
    "yhat"
   ]
  },
  {
   "cell_type": "code",
   "execution_count": 434,
   "metadata": {},
   "outputs": [],
   "source": [
    "from sklearn.metrics import plot_confusion_matrix"
   ]
  },
  {
   "cell_type": "code",
   "execution_count": 435,
   "metadata": {},
   "outputs": [
    {
     "data": {
      "text/plain": [
       "<sklearn.metrics._plot.confusion_matrix.ConfusionMatrixDisplay at 0x129fad580>"
      ]
     },
     "execution_count": 435,
     "metadata": {},
     "output_type": "execute_result"
    },
    {
     "data": {
      "image/png": "[encoded data removed]",
      "text/plain": [
       "<Figure size 432x288 with 2 Axes>"
      ]
     },
     "metadata": {
      "needs_background": "light"
     },
     "output_type": "display_data"
    }
   ],
   "source": [
    "plot_confusion_matrix(best_tree,X_test,y_test)"
   ]
  },
  {
   "cell_type": "markdown",
   "metadata": {},
   "source": [
    "## SVM is extremely slow for CPUs for this problem : Maybe use GPU in future from collab"
   ]
  },
  {
   "cell_type": "markdown",
   "metadata": {},
   "source": [
    "## Logistic Regression"
   ]
  },
  {
   "cell_type": "code",
   "execution_count": 436,
   "metadata": {},
   "outputs": [],
   "source": [
    "from sklearn.linear_model import LogisticRegression\n",
    "X_train, X_test, y_train, y_test = train_test_split( X, y, test_size=0.2, random_state=4)"
   ]
  },
  {
   "cell_type": "code",
   "execution_count": 437,
   "metadata": {},
   "outputs": [],
   "source": [
    "grid={\"C\":[0.001, 0.01, 0.1, 1, 10, 100, 1000], \n",
    "      \"solver\":[\"newton-cg\", \"lbfgs\", \"liblinear\", \"sag\", \"saga\"]\n",
    "     }\n",
    "lr=LogisticRegression(max_iter=10000)\n",
    "logreg=GridSearchCV(lr,grid,cv=10,iid=False)\n",
    "logreg.fit(X_train,y_train)\n",
    "best_lr = logreg.best_estimator_"
   ]
  },
  {
   "cell_type": "code",
   "execution_count": 438,
   "metadata": {},
   "outputs": [
    {
     "data": {
      "text/plain": [
       "LogisticRegression(C=0.001, max_iter=10000, solver='newton-cg')"
      ]
     },
     "execution_count": 438,
     "metadata": {},
     "output_type": "execute_result"
    }
   ],
   "source": [
    "yhat = best_lr.predict(X_test)\n",
    "best_lr"
   ]
  },
  {
   "cell_type": "code",
   "execution_count": 439,
   "metadata": {},
   "outputs": [
    {
     "name": "stdout",
     "output_type": "stream",
     "text": [
      "F1 score:  0.6205128205128204\n",
      "Accuracy:  0.7333333333333333\n"
     ]
    }
   ],
   "source": [
    "print('F1 score: ', f1_score(y_test, yhat, average='weighted'))\n",
    "print('Accuracy: ', accuracy_score(y_test, yhat))"
   ]
  },
  {
   "cell_type": "code",
   "execution_count": 440,
   "metadata": {},
   "outputs": [
    {
     "data": {
      "text/plain": [
       "'              precision    recall  f1-score   support\\n\\n           0       0.73      1.00      0.85        11\\n           1       0.00      0.00      0.00         4\\n\\n    accuracy                           0.73        15\\n   macro avg       0.37      0.50      0.42        15\\nweighted avg       0.54      0.73      0.62        15\\n'"
      ]
     },
     "execution_count": 440,
     "metadata": {},
     "output_type": "execute_result"
    }
   ],
   "source": [
    "from sklearn.metrics import classification_report\n",
    "\n",
    "classification_report(y_test,yhat)"
   ]
  },
  {
   "cell_type": "code",
   "execution_count": 441,
   "metadata": {},
   "outputs": [],
   "source": [
    "from sklearn.metrics import confusion_matrix"
   ]
  },
  {
   "cell_type": "code",
   "execution_count": 442,
   "metadata": {},
   "outputs": [
    {
     "data": {
      "text/plain": [
       "array([[11,  0],\n",
       "       [ 4,  0]])"
      ]
     },
     "execution_count": 442,
     "metadata": {},
     "output_type": "execute_result"
    }
   ],
   "source": [
    "confusion_matrix(y_test,yhat)"
   ]
  },
  {
   "cell_type": "markdown",
   "metadata": {},
   "source": [
    "## Logistic regression does some what better with approximately 70% accuracy"
   ]
  },
  {
   "cell_type": "code",
   "execution_count": null,
   "metadata": {},
   "outputs": [],
   "source": []
  }
 ],
 "metadata": {
  "kernelspec": {
   "display_name": "Python 3",
   "language": "python",
   "name": "python3"
  },
  "language_info": {
   "codemirror_mode": {
    "name": "ipython",
    "version": 3
   },
   "file_extension": ".py",
   "mimetype": "text/x-python",
   "name": "python",
   "nbconvert_exporter": "python",
   "pygments_lexer": "ipython3",
   "version": "3.8.5"
  }
 },
 "nbformat": 4,
 "nbformat_minor": 4
}
